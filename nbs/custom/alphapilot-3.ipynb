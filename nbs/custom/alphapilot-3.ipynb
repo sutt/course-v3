{
 "cells": [
  {
   "cell_type": "markdown",
   "metadata": {},
   "source": [
    "### AP3\n",
    "moving most of processing code into one cell\n",
    "\n",
    "allowing parameters to change how data is constructed"
   ]
  },
  {
   "cell_type": "code",
   "execution_count": 1,
   "metadata": {},
   "outputs": [
    {
     "data": {
      "text/plain": [
       "7601"
      ]
     },
     "execution_count": 1,
     "metadata": {},
     "output_type": "execute_result"
    }
   ],
   "source": [
    "import os, sys, json, copy, random\n",
    "import pandas as pd\n",
    "import numpy as np\n",
    "from fastai.vision import *\n",
    "from fastai.utils.mem import  gpu_mem_get_free_no_cache\n",
    "gpu_mem_get_free_no_cache()"
   ]
  },
  {
   "cell_type": "code",
   "execution_count": 2,
   "metadata": {},
   "outputs": [],
   "source": [
    "data_dir = Path('data/alphapilot/')\n",
    "raw_fn = data_dir/'data_training'\n",
    "label_fn = data_dir/'truth_df.csv'\n",
    "\n",
    "if os.name == 'nt':      ##local\n",
    "    data_dir = Path('../../../../alphapilot/')\n",
    "    raw_fn = data_dir/'Data_Training/Data_Training/'\n",
    "    label_fn = data_dir/'truth_df.csv'"
   ]
  },
  {
   "cell_type": "markdown",
   "metadata": {},
   "source": [
    "##### Build Data"
   ]
  },
  {
   "cell_type": "code",
   "execution_count": 3,
   "metadata": {},
   "outputs": [],
   "source": [
    "#load ground truth\n",
    "truth_df = pd.read_csv(label_fn, index_col=0)\n",
    "assert truth_df.shape == (8, 5827)"
   ]
  },
  {
   "cell_type": "code",
   "execution_count": 4,
   "metadata": {},
   "outputs": [],
   "source": [
    "# helper functions to build-dataset\n",
    "\n",
    "TRUTH_INDS  = list(truth_df.columns)\n",
    "\n",
    "def filter_img_by_truth(fn):\n",
    "    ''' only use data records in truth_df'''\n",
    "    return fn.name in TRUTH_INDS\n",
    "\n",
    "filter_records = filter_img_by_truth\n",
    "\n",
    "def label_points(fn):\n",
    "    '''\n",
    "        input:  x0,y0,...x3,y3 (list)\n",
    "        output: [y0,x0],...[y3,x3] (list) \n",
    "         \n",
    "        >use y_first=True in label-load-func\n",
    "    '''\n",
    "    p = truth_df[fn.name]\n",
    "    return tensor([ [ float(p[i*2+1]), float(p[i*2+0]) ] for i in range(4)])\n",
    "\n",
    "def mod_img_divisor(h,w):\n",
    "    return [ i for i in range(2, min(h,w) // 2) \n",
    "               if (h % i ==0) and (w % i ==0 )\n",
    "           ]"
   ]
  },
  {
   "cell_type": "code",
   "execution_count": 5,
   "metadata": {},
   "outputs": [
    {
     "data": {
      "text/plain": [
       "[tensor([432, 648]),\n",
       " tensor([288, 432]),\n",
       " tensor([216, 324]),\n",
       " tensor([144, 216]),\n",
       " tensor([108, 162]),\n",
       " tensor([ 96, 144]),\n",
       " tensor([ 72, 108]),\n",
       " tensor([54, 81])]"
      ]
     },
     "execution_count": 5,
     "metadata": {},
     "output_type": "execute_result"
    }
   ],
   "source": [
    "# view different sizes\n",
    "IMG_SHAPE = [864, 1296]\n",
    "divisors = mod_img_divisor(*IMG_SHAPE)\n",
    "[e for e in [tensor(IMG_SHAPE) / e for e in divisors] if e[0] > 50]"
   ]
  },
  {
   "cell_type": "code",
   "execution_count": 9,
   "metadata": {},
   "outputs": [],
   "source": [
    "#Parameters to build-dataset\n",
    "\n",
    "_numworkers = {}\n",
    "if os.name == 'nt':\n",
    "    _numworkers['num_workers'] = 0\n",
    "    \n",
    "_batchsize = 4\n",
    "_size = (216, 324)"
   ]
  },
  {
   "cell_type": "code",
   "execution_count": 10,
   "metadata": {},
   "outputs": [],
   "source": [
    "data = (PointsItemList.from_folder(raw_fn)\n",
    "        .filter_by_func(filter_records)\n",
    "        .split_by_rand_pct(valid_pct=0.2)\n",
    "        .label_from_func(label_points)\n",
    "        .transform(get_transforms()\n",
    "                            ,tfm_y=True\n",
    "                            ,size=_size\n",
    "                            ,remove_out=False\n",
    "                           )    \n",
    "         .databunch(bs=_batchsize, **_numworkers)\n",
    "         .normalize(imagenet_stats)\n",
    "       )"
   ]
  },
  {
   "cell_type": "code",
   "execution_count": 27,
   "metadata": {},
   "outputs": [],
   "source": [
    "# run asserts here to check data\n",
    "assert isinstance(data, ImageDataBunch)\n",
    "assert len(data.train_dl.x.items) == 4662\n",
    "assert len(data.valid_dl.x.items) == 1165\n",
    "assert list(data.valid_dl.y.items[0].shape) == [4,2]\n",
    "assert list(data.valid_dl.x.get(0).shape) == [3, 864, 1296]\n",
    "assert data.num_workers == (0 if os.name == 'nt' else 8)"
   ]
  },
  {
   "cell_type": "markdown",
   "metadata": {},
   "source": [
    "##### Train"
   ]
  },
  {
   "cell_type": "code",
   "execution_count": 13,
   "metadata": {},
   "outputs": [],
   "source": [
    "learn = cnn_learner(data, models.resnet34)"
   ]
  },
  {
   "cell_type": "code",
   "execution_count": 14,
   "metadata": {},
   "outputs": [
    {
     "data": {
      "text/html": [],
      "text/plain": [
       "<IPython.core.display.HTML object>"
      ]
     },
     "metadata": {},
     "output_type": "display_data"
    },
    {
     "name": "stdout",
     "output_type": "stream",
     "text": [
      "LR Finder is complete, type {learner_name}.recorder.plot() to see the graph.\n"
     ]
    },
    {
     "data": {
      "image/png": "[encoded data removed]",
      "text/plain": [
       "<Figure size 432x288 with 1 Axes>"
      ]
     },
     "metadata": {},
     "output_type": "display_data"
    }
   ],
   "source": [
    "learn.lr_find()\n",
    "learn.recorder.plot()"
   ]
  },
  {
   "cell_type": "code",
   "execution_count": null,
   "metadata": {},
   "outputs": [
    {
     "data": {
      "text/html": [
       "\n",
       "    <div>\n",
       "        <style>\n",
       "            /* Turns off some styling */\n",
       "            progress {\n",
       "                /* gets rid of default border in Firefox and Opera. */\n",
       "                border: none;\n",
       "                /* Needs to be in here for Safari polyfill so background images work as expected. */\n",
       "                background-size: auto;\n",
       "            }\n",
       "            .progress-bar-interrupted, .progress-bar-interrupted::-webkit-progress-bar {\n",
       "                background: #F44336;\n",
       "            }\n",
       "        </style>\n",
       "      <progress value='7' class='' max='10', style='width:300px; height:20px; vertical-align: middle;'></progress>\n",
       "      70.00% [7/10 08:47<03:46]\n",
       "    </div>\n",
       "    \n",
       "<table border=\"1\" class=\"dataframe\">\n",
       "  <thead>\n",
       "    <tr style=\"text-align: left;\">\n",
       "      <th>epoch</th>\n",
       "      <th>train_loss</th>\n",
       "      <th>valid_loss</th>\n",
       "      <th>time</th>\n",
       "    </tr>\n",
       "  </thead>\n",
       "  <tbody>\n",
       "    <tr>\n",
       "      <td>0</td>\n",
       "      <td>0.443529</td>\n",
       "      <td>0.138282</td>\n",
       "      <td>01:15</td>\n",
       "    </tr>\n",
       "    <tr>\n",
       "      <td>1</td>\n",
       "      <td>0.065398</td>\n",
       "      <td>0.041553</td>\n",
       "      <td>01:15</td>\n",
       "    </tr>\n",
       "    <tr>\n",
       "      <td>2</td>\n",
       "      <td>0.053497</td>\n",
       "      <td>0.032882</td>\n",
       "      <td>01:14</td>\n",
       "    </tr>\n",
       "    <tr>\n",
       "      <td>3</td>\n",
       "      <td>0.046617</td>\n",
       "      <td>0.024667</td>\n",
       "      <td>01:14</td>\n",
       "    </tr>\n",
       "    <tr>\n",
       "      <td>4</td>\n",
       "      <td>0.042883</td>\n",
       "      <td>0.025179</td>\n",
       "      <td>01:15</td>\n",
       "    </tr>\n",
       "    <tr>\n",
       "      <td>5</td>\n",
       "      <td>0.037611</td>\n",
       "      <td>0.023884</td>\n",
       "      <td>01:16</td>\n",
       "    </tr>\n",
       "    <tr>\n",
       "      <td>6</td>\n",
       "      <td>0.032920</td>\n",
       "      <td>0.021571</td>\n",
       "      <td>01:15</td>\n",
       "    </tr>\n",
       "  </tbody>\n",
       "</table><p>\n",
       "\n",
       "    <div>\n",
       "        <style>\n",
       "            /* Turns off some styling */\n",
       "            progress {\n",
       "                /* gets rid of default border in Firefox and Opera. */\n",
       "                border: none;\n",
       "                /* Needs to be in here for Safari polyfill so background images work as expected. */\n",
       "                background-size: auto;\n",
       "            }\n",
       "            .progress-bar-interrupted, .progress-bar-interrupted::-webkit-progress-bar {\n",
       "                background: #F44336;\n",
       "            }\n",
       "        </style>\n",
       "      <progress value='248' class='' max='1165', style='width:300px; height:20px; vertical-align: middle;'></progress>\n",
       "      21.29% [248/1165 00:13<00:51 0.0365]\n",
       "    </div>\n",
       "    "
      ],
      "text/plain": [
       "<IPython.core.display.HTML object>"
      ]
     },
     "metadata": {},
     "output_type": "display_data"
    }
   ],
   "source": [
    "lr = 2e-3\n",
    "learn.fit_one_cycle(10, slice(lr))"
   ]
  },
  {
   "cell_type": "code",
   "execution_count": null,
   "metadata": {},
   "outputs": [],
   "source": [
    "lr = 1e-5\n",
    "learn2 = cnn_learner(data, models.resnet34)\n",
    "learn2.fit_one_cycle(10, slice(lr))"
   ]
  },
  {
   "cell_type": "markdown",
   "metadata": {},
   "source": [
    "##### Saving Progress"
   ]
  },
  {
   "cell_type": "code",
   "execution_count": null,
   "metadata": {},
   "outputs": [],
   "source": [
    "learn.save('ap3-2e3-10')\n",
    "learn2.save('ap3-1e5-10')"
   ]
  },
  {
   "cell_type": "code",
   "execution_count": 19,
   "metadata": {},
   "outputs": [
    {
     "data": {
      "text/plain": [
       "PosixPath('num_workers')"
      ]
     },
     "execution_count": 19,
     "metadata": {},
     "output_type": "execute_result"
    }
   ],
   "source": [
    "# erroneous learn.path, was inseted in databunch() operation, \n",
    "# should point to old-models/ on the cloud (if possible)\n",
    "# but usually data_dir/models/my.pth\n",
    "learn.path"
   ]
  },
  {
   "cell_type": "code",
   "execution_count": null,
   "metadata": {},
   "outputs": [],
   "source": []
  },
  {
   "cell_type": "code",
   "execution_count": null,
   "metadata": {},
   "outputs": [],
   "source": []
  },
  {
   "cell_type": "markdown",
   "metadata": {},
   "source": [
    "##### Import / Export"
   ]
  },
  {
   "cell_type": "code",
   "execution_count": 17,
   "metadata": {
    "collapsed": true
   },
   "outputs": [],
   "source": [
    "# export as pkl\n",
    "defaults.device = torch.device('cpu')\n",
    "\n",
    "export_fn = Path(os.getcwd())\n",
    "export_fn = export_fn/'old-models'/'ap-1-cpu.pkl'\n",
    "\n",
    "learn.export(export_fn)"
   ]
  },
  {
   "cell_type": "code",
   "execution_count": 10,
   "metadata": {
    "collapsed": true
   },
   "outputs": [],
   "source": [
    "import_fn = Path(os.getcwd())\n",
    "import_fn = import_fn/'old-models'\n",
    "\n",
    "pathlike_fn = import_fn/'ap-1-cpu.pkl'\n",
    "\n",
    "# load pkl\n",
    "learn2 = load_learner(path='', fname=pathlike_fn)"
   ]
  },
  {
   "cell_type": "markdown",
   "metadata": {},
   "source": [
    "##### Graphical Display"
   ]
  },
  {
   "cell_type": "code",
   "execution_count": 137,
   "metadata": {
    "collapsed": true
   },
   "outputs": [],
   "source": [
    "# helper functions for working with \n",
    "\n",
    "def scaled_pts(pts):\n",
    "    ''' use a helper function to convert coords flow->absolute\n",
    "        input  pts - an ImagePoints object\n",
    "        output tensor(4,2)\n",
    "    '''\n",
    "    return scale_flow(\n",
    "                FlowField(pts.size, pts.data)\n",
    "                            ,to_unit=False\n",
    "                        ).flow.flip(1)\n",
    "\n",
    "def scaled_pts_2(data_slice, item_num):\n",
    "    ''' use a secondary pattern to convert coords flow->absolute:\n",
    "        input data_slice=data_final.valid_dl\n",
    "              item_num=0\n",
    "        output tensor(4,2)\n",
    "    '''\n",
    "    pll = PointsLabelList([])\n",
    "    re_pts = pll.reconstruct( data_slice.y.items[item_num]\n",
    "                             ,data_slice.x.get(item_num))\n",
    "    return re_pts.data\n",
    "\n",
    "def get_ip(img,pts): \n",
    "    ''' converts plain tensor representing points to an \n",
    "        ImagePoints obj; useful for inserting into show(y=?)\n",
    "    '''\n",
    "    return ImagePoints(FlowField(img.size, pts), \n",
    "                       scale=True,  \n",
    "                       y_first=True)\n",
    "\n",
    "def clean_preds(pred_pts):\n",
    "    '''remove out-of-bounds from coords'''\n",
    "    pass"
   ]
  },
  {
   "cell_type": "code",
   "execution_count": 140,
   "metadata": {},
   "outputs": [
    {
     "name": "stdout",
     "output_type": "stream",
     "text": [
      "200 IMG_8806.JPG\n",
      "tensor([[ 111.,  594.],\n",
      "        [ 202., 1004.],\n",
      "        [ 697., 1007.],\n",
      "        [ 755.,  592.]])\n",
      "----\n",
      "tensor([[78.0546, 29.1903],\n",
      "        [92.4405, 28.9957],\n",
      "        [92.4121, 83.5083],\n",
      "        [78.2821, 83.9489]])\n"
     ]
    },
    {
     "data": {
      "image/png": "[encoded data removed]",
      "text/plain": [
       "<Figure size 720x720 with 1 Axes>"
      ]
     },
     "metadata": {
      "needs_background": "light"
     },
     "output_type": "display_data"
    }
   ],
   "source": [
    "i = 200\n",
    "# i = np.random.randint(0, len(data_final.valid_dl.x.items) - 1)\n",
    "\n",
    "fn =  data_final.valid_dl.x.items[i]\n",
    "img = data_final.valid_dl.x.get(i)\n",
    "truth_pts = data_final.valid_dl.y.items[i]\n",
    "\n",
    "pred_pts = learn2.predict(img)  #outputs tuple(ImgPts obj, data)\n",
    "scaled_pred_pts = scaled_pts(pred_pts[0])\n",
    "\n",
    "img2 = img.clone()\n",
    "img2.resize(size=(3,108,162))\n",
    "\n",
    "print(i, fn.name); print(truth_pts); print('----')\n",
    "print(scaled_pred_pts) #TODO - put on same terms as ground-truth, round\n",
    "\n",
    "img2.show( \n",
    "          # y=get_ip(img, truth_pts)\n",
    "          y=get_ip(img, scaled_pred_pts)\n",
    "         ,figsize=(10, 10)\n",
    "         ,c='y' ,marker='o', s=100\n",
    "        )"
   ]
  },
  {
   "cell_type": "code",
   "execution_count": null,
   "metadata": {
    "collapsed": true
   },
   "outputs": [],
   "source": []
  }
 ],
 "metadata": {
  "kernelspec": {
   "display_name": "Python 3",
   "language": "python",
   "name": "python3"
  },
  "language_info": {
   "codemirror_mode": {
    "name": "ipython",
    "version": 3
   },
   "file_extension": ".py",
   "mimetype": "text/x-python",
   "name": "python",
   "nbconvert_exporter": "python",
   "pygments_lexer": "ipython3",
   "version": "3.7.1"
  }
 },
 "nbformat": 4,
 "nbformat_minor": 2
}
