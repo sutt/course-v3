{
 "cells": [
  {
   "cell_type": "markdown",
   "metadata": {},
   "source": [
    "### AlphaPilot - Predict Gate Regions"
   ]
  },
  {
   "cell_type": "code",
   "execution_count": 55,
   "metadata": {},
   "outputs": [],
   "source": [
    "'''\n",
    "TODO\n",
    "[ ] process data\n",
    "    [x] upload imgs\n",
    "    [ ] upload labels\n",
    "        [x] truth_new.json upload\n",
    "        [ ] figure out which truth dataset\n",
    "        [ ]\n",
    "    [ ] unzip data\n",
    "    [ ] find old processing script\n",
    "        [ ] eliminate 9th data point (?)\n",
    "    [ ] align number of labels with number of images\n",
    "    \n",
    "    \n",
    "[ ] Build ImagePoint data set\n",
    "\n",
    "[ ] Packaging / sourcing\n",
    "    [ ] git between cloud and local\n",
    "    [ ] run the processing on both\n",
    "\n",
    "'''\n",
    "pass"
   ]
  },
  {
   "cell_type": "code",
   "execution_count": 34,
   "metadata": {},
   "outputs": [],
   "source": [
    "import os, sys, json, copy, random\n",
    "import pandas as pd\n",
    "from fastai.vision import *"
   ]
  },
  {
   "cell_type": "code",
   "execution_count": 20,
   "metadata": {},
   "outputs": [],
   "source": [
    "data_dir = Path('data/alphapilot/')\n",
    "\n",
    "zip_fn = data_dir/'Data_Training.zip'\n",
    "raw_fn = data_dir/'gate_training'\n",
    "label_fn = data_dir/'truth_new.json'"
   ]
  },
  {
   "cell_type": "code",
   "execution_count": 8,
   "metadata": {},
   "outputs": [],
   "source": [
    "!unzip str(zip_fn) str(raw_fn)"
   ]
  },
  {
   "cell_type": "code",
   "execution_count": 48,
   "metadata": {},
   "outputs": [
    {
     "name": "stdout",
     "output_type": "stream",
     "text": [
      "('IMG_9622.JPG', [[583, 439, 772, 431, 779, 628, 582, 631]])\n",
      "('IMG_9925.JPG', [[481, 295, 769, 268, 777, 590, 480, 589]])\n",
      "['IMG_1343.JPG', 'IMG_0688.JPG', 'IMG_6608.JPG', 'IMG_0492.JPG']\n",
      "('IMG_9622.JPG', [583, 439, 772, 431, 779, 628, 582, 631])\n",
      "('IMG_9925.JPG', [481, 295, 769, 268, 777, 590, 480, 589])\n",
      "5831 5827\n"
     ]
    }
   ],
   "source": [
    "with open(label_fn, 'r') as f:\n",
    "    truth = json.load(f)\n",
    "\n",
    "print(*list(truth.items())[:2], sep='\\n')\n",
    "\n",
    "list_blanks = [k for k,v in truth.items()\n",
    "                 if len(v[0]) == 0]\n",
    "\n",
    "print(list_blanks)\n",
    "\n",
    "truth_1dim = {k:v[0] for k,v in truth.items() \n",
    "                      if k not in list_blanks\n",
    "             }\n",
    "\n",
    "print(*list(truth_1dim.items())[:2], sep='\\n')\n",
    "\n",
    "print( len(list(truth.items())) \n",
    "       ,len(list(truth_1dim.items()))\n",
    "     )"
   ]
  },
  {
   "cell_type": "code",
   "execution_count": 43,
   "metadata": {},
   "outputs": [],
   "source": [
    "# are there only 5381 images in training set, or more for \n",
    "# the uncorrected images?"
   ]
  },
  {
   "cell_type": "code",
   "execution_count": 50,
   "metadata": {},
   "outputs": [],
   "source": [
    "truth_df = pd.DataFrame(truth_1dim)"
   ]
  },
  {
   "cell_type": "code",
   "execution_count": 52,
   "metadata": {},
   "outputs": [
    {
     "data": {
      "text/html": [
       "<div>\n",
       "<style scoped>\n",
       "    .dataframe tbody tr th:only-of-type {\n",
       "        vertical-align: middle;\n",
       "    }\n",
       "\n",
       "    .dataframe tbody tr th {\n",
       "        vertical-align: top;\n",
       "    }\n",
       "\n",
       "    .dataframe thead th {\n",
       "        text-align: right;\n",
       "    }\n",
       "</style>\n",
       "<table border=\"1\" class=\"dataframe\">\n",
       "  <thead>\n",
       "    <tr style=\"text-align: right;\">\n",
       "      <th></th>\n",
       "      <th>0</th>\n",
       "      <th>1</th>\n",
       "      <th>2</th>\n",
       "      <th>3</th>\n",
       "      <th>4</th>\n",
       "      <th>5</th>\n",
       "      <th>6</th>\n",
       "      <th>7</th>\n",
       "    </tr>\n",
       "  </thead>\n",
       "  <tbody>\n",
       "    <tr>\n",
       "      <th>IMG_9622.JPG</th>\n",
       "      <td>583</td>\n",
       "      <td>439</td>\n",
       "      <td>772</td>\n",
       "      <td>431</td>\n",
       "      <td>779</td>\n",
       "      <td>628</td>\n",
       "      <td>582</td>\n",
       "      <td>631</td>\n",
       "    </tr>\n",
       "    <tr>\n",
       "      <th>IMG_9925.JPG</th>\n",
       "      <td>481</td>\n",
       "      <td>295</td>\n",
       "      <td>769</td>\n",
       "      <td>268</td>\n",
       "      <td>777</td>\n",
       "      <td>590</td>\n",
       "      <td>480</td>\n",
       "      <td>589</td>\n",
       "    </tr>\n",
       "    <tr>\n",
       "      <th>IMG_6733.JPG</th>\n",
       "      <td>593</td>\n",
       "      <td>362</td>\n",
       "      <td>650</td>\n",
       "      <td>399</td>\n",
       "      <td>649</td>\n",
       "      <td>597</td>\n",
       "      <td>589</td>\n",
       "      <td>592</td>\n",
       "    </tr>\n",
       "    <tr>\n",
       "      <th>IMG_4583.JPG</th>\n",
       "      <td>477</td>\n",
       "      <td>292</td>\n",
       "      <td>722</td>\n",
       "      <td>278</td>\n",
       "      <td>723</td>\n",
       "      <td>560</td>\n",
       "      <td>479</td>\n",
       "      <td>549</td>\n",
       "    </tr>\n",
       "    <tr>\n",
       "      <th>IMG_0401.JPG</th>\n",
       "      <td>522</td>\n",
       "      <td>321</td>\n",
       "      <td>657</td>\n",
       "      <td>344</td>\n",
       "      <td>650</td>\n",
       "      <td>554</td>\n",
       "      <td>519</td>\n",
       "      <td>569</td>\n",
       "    </tr>\n",
       "  </tbody>\n",
       "</table>\n",
       "</div>"
      ],
      "text/plain": [
       "                0    1    2    3    4    5    6    7\n",
       "IMG_9622.JPG  583  439  772  431  779  628  582  631\n",
       "IMG_9925.JPG  481  295  769  268  777  590  480  589\n",
       "IMG_6733.JPG  593  362  650  399  649  597  589  592\n",
       "IMG_4583.JPG  477  292  722  278  723  560  479  549\n",
       "IMG_0401.JPG  522  321  657  344  650  554  519  569"
      ]
     },
     "execution_count": 52,
     "metadata": {},
     "output_type": "execute_result"
    }
   ],
   "source": [
    "truth_df.T.head()"
   ]
  },
  {
   "cell_type": "code",
   "execution_count": 53,
   "metadata": {},
   "outputs": [
    {
     "ename": "TypeError",
     "evalue": "from_df() missing 1 required positional argument: 'path'",
     "output_type": "error",
     "traceback": [
      "\u001b[0;31m---------------------------------------------------------------------------\u001b[0m",
      "\u001b[0;31mTypeError\u001b[0m                                 Traceback (most recent call last)",
      "\u001b[0;32m<ipython-input-53-90d36e02c580>\u001b[0m in \u001b[0;36m<module>\u001b[0;34m\u001b[0m\n\u001b[0;32m----> 1\u001b[0;31m \u001b[0mmy_points\u001b[0m \u001b[0;34m=\u001b[0m \u001b[0mPointsItemList\u001b[0m\u001b[0;34m.\u001b[0m\u001b[0mfrom_df\u001b[0m\u001b[0;34m(\u001b[0m\u001b[0mtruth_df\u001b[0m\u001b[0;34m)\u001b[0m\u001b[0;34m\u001b[0m\u001b[0;34m\u001b[0m\u001b[0m\n\u001b[0m",
      "\u001b[0;31mTypeError\u001b[0m: from_df() missing 1 required positional argument: 'path'"
     ]
    }
   ],
   "source": [
    "my_points = PointsItemList.from_df(truth_df)"
   ]
  },
  {
   "cell_type": "code",
   "execution_count": 54,
   "metadata": {},
   "outputs": [],
   "source": [
    "??PointsItemList.from_df"
   ]
  },
  {
   "cell_type": "code",
   "execution_count": null,
   "metadata": {},
   "outputs": [],
   "source": []
  },
  {
   "cell_type": "code",
   "execution_count": null,
   "metadata": {},
   "outputs": [],
   "source": []
  },
  {
   "cell_type": "code",
   "execution_count": null,
   "metadata": {},
   "outputs": [],
   "source": []
  },
  {
   "cell_type": "code",
   "execution_count": null,
   "metadata": {},
   "outputs": [],
   "source": []
  }
 ],
 "metadata": {
  "kernelspec": {
   "display_name": "Python 3",
   "language": "python",
   "name": "python3"
  },
  "language_info": {
   "codemirror_mode": {
    "name": "ipython",
    "version": 3
   },
   "file_extension": ".py",
   "mimetype": "text/x-python",
   "name": "python",
   "nbconvert_exporter": "python",
   "pygments_lexer": "ipython3",
   "version": "3.7.1"
  }
 },
 "nbformat": 4,
 "nbformat_minor": 2
}
