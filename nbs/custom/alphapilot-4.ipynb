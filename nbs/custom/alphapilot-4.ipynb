{
 "cells": [
  {
   "cell_type": "code",
   "execution_count": 2,
   "metadata": {},
   "outputs": [
    {
     "data": {
      "text/plain": [
       "0"
      ]
     },
     "execution_count": 2,
     "metadata": {},
     "output_type": "execute_result"
    }
   ],
   "source": [
    "import os, sys, json, copy, random\n",
    "import pandas as pd\n",
    "import numpy as np\n",
    "from fastai.vision import *\n",
    "from fastai.utils.mem import  gpu_mem_get_free_no_cache\n",
    "gpu_mem_get_free_no_cache()"
   ]
  },
  {
   "cell_type": "code",
   "execution_count": 2,
   "metadata": {
    "collapsed": true
   },
   "outputs": [],
   "source": [
    "from modules.ap3data import build_data"
   ]
  },
  {
   "cell_type": "code",
   "execution_count": 5,
   "metadata": {
    "collapsed": true
   },
   "outputs": [],
   "source": [
    "data_regular = build_data()"
   ]
  },
  {
   "cell_type": "code",
   "execution_count": 6,
   "metadata": {
    "collapsed": true
   },
   "outputs": [],
   "source": [
    "data_bs8 = build_data(batch_size=8)"
   ]
  },
  {
   "cell_type": "code",
   "execution_count": 7,
   "metadata": {
    "collapsed": true
   },
   "outputs": [],
   "source": [
    "data_bs16 = build_data(batch_size=16)"
   ]
  },
  {
   "cell_type": "code",
   "execution_count": 8,
   "metadata": {
    "collapsed": true
   },
   "outputs": [],
   "source": [
    "data_size288 = build_data(size=(288, 432))"
   ]
  },
  {
   "cell_type": "code",
   "execution_count": 9,
   "metadata": {
    "collapsed": true
   },
   "outputs": [],
   "source": [
    "data_size288_bs8 = build_data(size=(288, 432), batch_size=8)"
   ]
  },
  {
   "cell_type": "code",
   "execution_count": 10,
   "metadata": {},
   "outputs": [
    {
     "data": {
      "text/html": [
       "Total time: 11:55 <p><table border=\"1\" class=\"dataframe\">\n",
       "  <thead>\n",
       "    <tr style=\"text-align: left;\">\n",
       "      <th>epoch</th>\n",
       "      <th>train_loss</th>\n",
       "      <th>valid_loss</th>\n",
       "      <th>time</th>\n",
       "    </tr>\n",
       "  </thead>\n",
       "  <tbody>\n",
       "    <tr>\n",
       "      <td>0</td>\n",
       "      <td>0.586355</td>\n",
       "      <td>0.140168</td>\n",
       "      <td>01:11</td>\n",
       "    </tr>\n",
       "    <tr>\n",
       "      <td>1</td>\n",
       "      <td>0.069043</td>\n",
       "      <td>0.037892</td>\n",
       "      <td>01:12</td>\n",
       "    </tr>\n",
       "    <tr>\n",
       "      <td>2</td>\n",
       "      <td>0.051398</td>\n",
       "      <td>0.031110</td>\n",
       "      <td>01:12</td>\n",
       "    </tr>\n",
       "    <tr>\n",
       "      <td>3</td>\n",
       "      <td>0.041506</td>\n",
       "      <td>0.024367</td>\n",
       "      <td>01:12</td>\n",
       "    </tr>\n",
       "    <tr>\n",
       "      <td>4</td>\n",
       "      <td>0.038502</td>\n",
       "      <td>0.019546</td>\n",
       "      <td>01:12</td>\n",
       "    </tr>\n",
       "    <tr>\n",
       "      <td>5</td>\n",
       "      <td>0.028216</td>\n",
       "      <td>0.018687</td>\n",
       "      <td>01:11</td>\n",
       "    </tr>\n",
       "    <tr>\n",
       "      <td>6</td>\n",
       "      <td>0.027184</td>\n",
       "      <td>0.015001</td>\n",
       "      <td>01:11</td>\n",
       "    </tr>\n",
       "    <tr>\n",
       "      <td>7</td>\n",
       "      <td>0.024683</td>\n",
       "      <td>0.013052</td>\n",
       "      <td>01:10</td>\n",
       "    </tr>\n",
       "    <tr>\n",
       "      <td>8</td>\n",
       "      <td>0.024096</td>\n",
       "      <td>0.012400</td>\n",
       "      <td>01:10</td>\n",
       "    </tr>\n",
       "    <tr>\n",
       "      <td>9</td>\n",
       "      <td>0.025006</td>\n",
       "      <td>0.012447</td>\n",
       "      <td>01:10</td>\n",
       "    </tr>\n",
       "  </tbody>\n",
       "</table>"
      ],
      "text/plain": [
       "<IPython.core.display.HTML object>"
      ]
     },
     "metadata": {},
     "output_type": "display_data"
    },
    {
     "name": "stdout",
     "output_type": "stream",
     "text": [
      "5621\n",
      "this Learner object self-destroyed - it still exists, but no longer usable\n",
      "5741\n"
     ]
    }
   ],
   "source": [
    "lr = 2e-3\n",
    "\n",
    "learn_bs8 = cnn_learner(data_bs8, models.resnet34)\n",
    "\n",
    "learn_bs8.fit_one_cycle(10, slice(lr))\n",
    "\n",
    "learn_bs8.save('ap4-bs8-1')\n",
    "\n",
    "print(gpu_mem_get_free_no_cache())\n",
    "learn_bs8.purge()\n",
    "learn_bs8.destroy()\n",
    "print(gpu_mem_get_free_no_cache())"
   ]
  },
  {
   "cell_type": "code",
   "execution_count": 11,
   "metadata": {},
   "outputs": [
    {
     "name": "stdout",
     "output_type": "stream",
     "text": [
      "5741\n"
     ]
    },
    {
     "data": {
      "text/html": [
       "Total time: 11:49 <p><table border=\"1\" class=\"dataframe\">\n",
       "  <thead>\n",
       "    <tr style=\"text-align: left;\">\n",
       "      <th>epoch</th>\n",
       "      <th>train_loss</th>\n",
       "      <th>valid_loss</th>\n",
       "      <th>time</th>\n",
       "    </tr>\n",
       "  </thead>\n",
       "  <tbody>\n",
       "    <tr>\n",
       "      <td>0</td>\n",
       "      <td>0.575831</td>\n",
       "      <td>0.157278</td>\n",
       "      <td>01:11</td>\n",
       "    </tr>\n",
       "    <tr>\n",
       "      <td>1</td>\n",
       "      <td>0.069560</td>\n",
       "      <td>0.038413</td>\n",
       "      <td>01:10</td>\n",
       "    </tr>\n",
       "    <tr>\n",
       "      <td>2</td>\n",
       "      <td>0.051782</td>\n",
       "      <td>0.030587</td>\n",
       "      <td>01:10</td>\n",
       "    </tr>\n",
       "    <tr>\n",
       "      <td>3</td>\n",
       "      <td>0.042402</td>\n",
       "      <td>0.025942</td>\n",
       "      <td>01:10</td>\n",
       "    </tr>\n",
       "    <tr>\n",
       "      <td>4</td>\n",
       "      <td>0.034612</td>\n",
       "      <td>0.022466</td>\n",
       "      <td>01:10</td>\n",
       "    </tr>\n",
       "    <tr>\n",
       "      <td>5</td>\n",
       "      <td>0.030294</td>\n",
       "      <td>0.016468</td>\n",
       "      <td>01:11</td>\n",
       "    </tr>\n",
       "    <tr>\n",
       "      <td>6</td>\n",
       "      <td>0.026085</td>\n",
       "      <td>0.014009</td>\n",
       "      <td>01:11</td>\n",
       "    </tr>\n",
       "    <tr>\n",
       "      <td>7</td>\n",
       "      <td>0.023128</td>\n",
       "      <td>0.012175</td>\n",
       "      <td>01:10</td>\n",
       "    </tr>\n",
       "    <tr>\n",
       "      <td>8</td>\n",
       "      <td>0.023827</td>\n",
       "      <td>0.011568</td>\n",
       "      <td>01:10</td>\n",
       "    </tr>\n",
       "    <tr>\n",
       "      <td>9</td>\n",
       "      <td>0.023385</td>\n",
       "      <td>0.011019</td>\n",
       "      <td>01:11</td>\n",
       "    </tr>\n",
       "  </tbody>\n",
       "</table>"
      ],
      "text/plain": [
       "<IPython.core.display.HTML object>"
      ]
     },
     "metadata": {},
     "output_type": "display_data"
    },
    {
     "name": "stdout",
     "output_type": "stream",
     "text": [
      "5621\n",
      "this Learner object self-destroyed - it still exists, but no longer usable\n",
      "5741\n"
     ]
    }
   ],
   "source": [
    "lr = 2e-3\n",
    "print(gpu_mem_get_free_no_cache())\n",
    "\n",
    "learn_bs16 = cnn_learner(data_bs16, models.resnet34)\n",
    "\n",
    "learn_bs16.fit_one_cycle(10, slice(lr))\n",
    "\n",
    "learn_bs16.save('ap4-bs16-1')\n",
    "\n",
    "print(gpu_mem_get_free_no_cache())\n",
    "learn_bs16.purge()\n",
    "learn_bs16.destroy()\n",
    "print(gpu_mem_get_free_no_cache())"
   ]
  },
  {
   "cell_type": "code",
   "execution_count": 13,
   "metadata": {},
   "outputs": [
    {
     "name": "stdout",
     "output_type": "stream",
     "text": [
      "5611\n"
     ]
    },
    {
     "data": {
      "text/html": [
       "Total time: 15:23 <p><table border=\"1\" class=\"dataframe\">\n",
       "  <thead>\n",
       "    <tr style=\"text-align: left;\">\n",
       "      <th>epoch</th>\n",
       "      <th>train_loss</th>\n",
       "      <th>valid_loss</th>\n",
       "      <th>time</th>\n",
       "    </tr>\n",
       "  </thead>\n",
       "  <tbody>\n",
       "    <tr>\n",
       "      <td>0</td>\n",
       "      <td>0.348552</td>\n",
       "      <td>0.100738</td>\n",
       "      <td>01:32</td>\n",
       "    </tr>\n",
       "    <tr>\n",
       "      <td>1</td>\n",
       "      <td>0.062710</td>\n",
       "      <td>0.044375</td>\n",
       "      <td>01:31</td>\n",
       "    </tr>\n",
       "    <tr>\n",
       "      <td>2</td>\n",
       "      <td>0.047791</td>\n",
       "      <td>0.032158</td>\n",
       "      <td>01:32</td>\n",
       "    </tr>\n",
       "    <tr>\n",
       "      <td>3</td>\n",
       "      <td>0.038835</td>\n",
       "      <td>0.029030</td>\n",
       "      <td>01:31</td>\n",
       "    </tr>\n",
       "    <tr>\n",
       "      <td>4</td>\n",
       "      <td>0.041759</td>\n",
       "      <td>0.025567</td>\n",
       "      <td>01:32</td>\n",
       "    </tr>\n",
       "    <tr>\n",
       "      <td>5</td>\n",
       "      <td>0.034472</td>\n",
       "      <td>0.022357</td>\n",
       "      <td>01:32</td>\n",
       "    </tr>\n",
       "    <tr>\n",
       "      <td>6</td>\n",
       "      <td>0.034245</td>\n",
       "      <td>0.021877</td>\n",
       "      <td>01:31</td>\n",
       "    </tr>\n",
       "    <tr>\n",
       "      <td>7</td>\n",
       "      <td>0.036324</td>\n",
       "      <td>0.020271</td>\n",
       "      <td>01:32</td>\n",
       "    </tr>\n",
       "    <tr>\n",
       "      <td>8</td>\n",
       "      <td>0.031564</td>\n",
       "      <td>0.019659</td>\n",
       "      <td>01:31</td>\n",
       "    </tr>\n",
       "    <tr>\n",
       "      <td>9</td>\n",
       "      <td>0.030605</td>\n",
       "      <td>0.018352</td>\n",
       "      <td>01:33</td>\n",
       "    </tr>\n",
       "  </tbody>\n",
       "</table>"
      ],
      "text/plain": [
       "<IPython.core.display.HTML object>"
      ]
     },
     "metadata": {},
     "output_type": "display_data"
    },
    {
     "name": "stdout",
     "output_type": "stream",
     "text": [
      "5457\n",
      "this Learner object self-destroyed - it still exists, but no longer usable\n",
      "5611\n"
     ]
    }
   ],
   "source": [
    "lr = 2e-3\n",
    "print(gpu_mem_get_free_no_cache())\n",
    "\n",
    "learn_size288 = cnn_learner(data_size288, models.resnet34)\n",
    "\n",
    "learn_size288.fit_one_cycle(10, slice(lr))\n",
    "\n",
    "learn_size288.save('ap4-size288-1')\n",
    "\n",
    "print(gpu_mem_get_free_no_cache())\n",
    "learn_size288.purge()\n",
    "learn_size288.destroy()\n",
    "print(gpu_mem_get_free_no_cache())"
   ]
  },
  {
   "cell_type": "code",
   "execution_count": 16,
   "metadata": {},
   "outputs": [
    {
     "name": "stdout",
     "output_type": "stream",
     "text": [
      "5351\n"
     ]
    },
    {
     "data": {
      "text/html": [
       "Total time: 11:47 <p><table border=\"1\" class=\"dataframe\">\n",
       "  <thead>\n",
       "    <tr style=\"text-align: left;\">\n",
       "      <th>epoch</th>\n",
       "      <th>train_loss</th>\n",
       "      <th>valid_loss</th>\n",
       "      <th>time</th>\n",
       "    </tr>\n",
       "  </thead>\n",
       "  <tbody>\n",
       "    <tr>\n",
       "      <td>0</td>\n",
       "      <td>0.693899</td>\n",
       "      <td>0.145754</td>\n",
       "      <td>01:10</td>\n",
       "    </tr>\n",
       "    <tr>\n",
       "      <td>1</td>\n",
       "      <td>0.144017</td>\n",
       "      <td>0.041848</td>\n",
       "      <td>01:10</td>\n",
       "    </tr>\n",
       "    <tr>\n",
       "      <td>2</td>\n",
       "      <td>0.052036</td>\n",
       "      <td>0.032739</td>\n",
       "      <td>01:11</td>\n",
       "    </tr>\n",
       "    <tr>\n",
       "      <td>3</td>\n",
       "      <td>0.046225</td>\n",
       "      <td>0.025923</td>\n",
       "      <td>01:10</td>\n",
       "    </tr>\n",
       "    <tr>\n",
       "      <td>4</td>\n",
       "      <td>0.038606</td>\n",
       "      <td>0.021914</td>\n",
       "      <td>01:11</td>\n",
       "    </tr>\n",
       "    <tr>\n",
       "      <td>5</td>\n",
       "      <td>0.033194</td>\n",
       "      <td>0.022273</td>\n",
       "      <td>01:10</td>\n",
       "    </tr>\n",
       "    <tr>\n",
       "      <td>6</td>\n",
       "      <td>0.027278</td>\n",
       "      <td>0.017495</td>\n",
       "      <td>01:11</td>\n",
       "    </tr>\n",
       "    <tr>\n",
       "      <td>7</td>\n",
       "      <td>0.024824</td>\n",
       "      <td>0.015822</td>\n",
       "      <td>01:10</td>\n",
       "    </tr>\n",
       "    <tr>\n",
       "      <td>8</td>\n",
       "      <td>0.022734</td>\n",
       "      <td>0.014237</td>\n",
       "      <td>01:10</td>\n",
       "    </tr>\n",
       "    <tr>\n",
       "      <td>9</td>\n",
       "      <td>0.023401</td>\n",
       "      <td>0.014022</td>\n",
       "      <td>01:10</td>\n",
       "    </tr>\n",
       "  </tbody>\n",
       "</table>"
      ],
      "text/plain": [
       "<IPython.core.display.HTML object>"
      ]
     },
     "metadata": {},
     "output_type": "display_data"
    },
    {
     "name": "stdout",
     "output_type": "stream",
     "text": [
      "5265\n",
      "this Learner object self-destroyed - it still exists, but no longer usable\n",
      "5433\n"
     ]
    }
   ],
   "source": [
    "#the real bs16: ap4-bs16-2\n",
    "data_bs16 = build_data(batch_size=16)\n",
    "lr = 2e-3\n",
    "print(gpu_mem_get_free_no_cache())\n",
    "\n",
    "learn_bs16 = cnn_learner(data_bs16, models.resnet34)\n",
    "\n",
    "learn_bs16.fit_one_cycle(10, slice(lr))\n",
    "\n",
    "learn_bs16.save('ap4-bs16-2')\n",
    "\n",
    "print(gpu_mem_get_free_no_cache())\n",
    "learn_bs16.purge()\n",
    "learn_bs16.destroy()\n",
    "print(gpu_mem_get_free_no_cache())"
   ]
  },
  {
   "cell_type": "code",
   "execution_count": 17,
   "metadata": {},
   "outputs": [
    {
     "name": "stdout",
     "output_type": "stream",
     "text": [
      "5433\n"
     ]
    },
    {
     "data": {
      "text/html": [
       "Total time: 12:12 <p><table border=\"1\" class=\"dataframe\">\n",
       "  <thead>\n",
       "    <tr style=\"text-align: left;\">\n",
       "      <th>epoch</th>\n",
       "      <th>train_loss</th>\n",
       "      <th>valid_loss</th>\n",
       "      <th>time</th>\n",
       "    </tr>\n",
       "  </thead>\n",
       "  <tbody>\n",
       "    <tr>\n",
       "      <td>0</td>\n",
       "      <td>0.398235</td>\n",
       "      <td>0.109019</td>\n",
       "      <td>01:12</td>\n",
       "    </tr>\n",
       "    <tr>\n",
       "      <td>1</td>\n",
       "      <td>0.065164</td>\n",
       "      <td>0.047309</td>\n",
       "      <td>01:13</td>\n",
       "    </tr>\n",
       "    <tr>\n",
       "      <td>2</td>\n",
       "      <td>0.049232</td>\n",
       "      <td>0.028594</td>\n",
       "      <td>01:13</td>\n",
       "    </tr>\n",
       "    <tr>\n",
       "      <td>3</td>\n",
       "      <td>0.039339</td>\n",
       "      <td>0.025928</td>\n",
       "      <td>01:12</td>\n",
       "    </tr>\n",
       "    <tr>\n",
       "      <td>4</td>\n",
       "      <td>0.034531</td>\n",
       "      <td>0.019794</td>\n",
       "      <td>01:12</td>\n",
       "    </tr>\n",
       "    <tr>\n",
       "      <td>5</td>\n",
       "      <td>0.031261</td>\n",
       "      <td>0.015875</td>\n",
       "      <td>01:13</td>\n",
       "    </tr>\n",
       "    <tr>\n",
       "      <td>6</td>\n",
       "      <td>0.027376</td>\n",
       "      <td>0.015770</td>\n",
       "      <td>01:13</td>\n",
       "    </tr>\n",
       "    <tr>\n",
       "      <td>7</td>\n",
       "      <td>0.027176</td>\n",
       "      <td>0.011257</td>\n",
       "      <td>01:12</td>\n",
       "    </tr>\n",
       "    <tr>\n",
       "      <td>8</td>\n",
       "      <td>0.025946</td>\n",
       "      <td>0.011080</td>\n",
       "      <td>01:12</td>\n",
       "    </tr>\n",
       "    <tr>\n",
       "      <td>9</td>\n",
       "      <td>0.025572</td>\n",
       "      <td>0.011197</td>\n",
       "      <td>01:14</td>\n",
       "    </tr>\n",
       "  </tbody>\n",
       "</table>"
      ],
      "text/plain": [
       "<IPython.core.display.HTML object>"
      ]
     },
     "metadata": {},
     "output_type": "display_data"
    },
    {
     "name": "stdout",
     "output_type": "stream",
     "text": [
      "this object has been destroyed\n",
      "5389\n",
      "this Learner object self-destroyed - it still exists, but no longer usable\n",
      "5433\n"
     ]
    }
   ],
   "source": [
    "lr0, lr1 = 2e-4, 2e-3\n",
    "print(gpu_mem_get_free_no_cache())\n",
    "\n",
    "learn_lr = cnn_learner(data_regular, models.resnet34)\n",
    "\n",
    "learn_lr.fit_one_cycle(10, slice(lr0, lr1))\n",
    "\n",
    "learn_size288.save('ap4-lr-1')\n",
    "\n",
    "print(gpu_mem_get_free_no_cache())\n",
    "learn_lr.purge()\n",
    "learn_lr.destroy()\n",
    "print(gpu_mem_get_free_no_cache())"
   ]
  },
  {
   "cell_type": "code",
   "execution_count": 18,
   "metadata": {},
   "outputs": [
    {
     "name": "stdout",
     "output_type": "stream",
     "text": [
      "5433\n"
     ]
    },
    {
     "data": {
      "text/html": [
       "Total time: 15:13 <p><table border=\"1\" class=\"dataframe\">\n",
       "  <thead>\n",
       "    <tr style=\"text-align: left;\">\n",
       "      <th>epoch</th>\n",
       "      <th>train_loss</th>\n",
       "      <th>valid_loss</th>\n",
       "      <th>time</th>\n",
       "    </tr>\n",
       "  </thead>\n",
       "  <tbody>\n",
       "    <tr>\n",
       "      <td>0</td>\n",
       "      <td>0.613852</td>\n",
       "      <td>0.150382</td>\n",
       "      <td>01:31</td>\n",
       "    </tr>\n",
       "    <tr>\n",
       "      <td>1</td>\n",
       "      <td>0.071485</td>\n",
       "      <td>0.040773</td>\n",
       "      <td>01:30</td>\n",
       "    </tr>\n",
       "    <tr>\n",
       "      <td>2</td>\n",
       "      <td>0.056115</td>\n",
       "      <td>0.027369</td>\n",
       "      <td>01:30</td>\n",
       "    </tr>\n",
       "    <tr>\n",
       "      <td>3</td>\n",
       "      <td>0.045989</td>\n",
       "      <td>0.028238</td>\n",
       "      <td>01:32</td>\n",
       "    </tr>\n",
       "    <tr>\n",
       "      <td>4</td>\n",
       "      <td>0.034511</td>\n",
       "      <td>0.021228</td>\n",
       "      <td>01:31</td>\n",
       "    </tr>\n",
       "    <tr>\n",
       "      <td>5</td>\n",
       "      <td>0.028587</td>\n",
       "      <td>0.015811</td>\n",
       "      <td>01:31</td>\n",
       "    </tr>\n",
       "    <tr>\n",
       "      <td>6</td>\n",
       "      <td>0.027718</td>\n",
       "      <td>0.013348</td>\n",
       "      <td>01:31</td>\n",
       "    </tr>\n",
       "    <tr>\n",
       "      <td>7</td>\n",
       "      <td>0.024780</td>\n",
       "      <td>0.011787</td>\n",
       "      <td>01:31</td>\n",
       "    </tr>\n",
       "    <tr>\n",
       "      <td>8</td>\n",
       "      <td>0.024025</td>\n",
       "      <td>0.012328</td>\n",
       "      <td>01:30</td>\n",
       "    </tr>\n",
       "    <tr>\n",
       "      <td>9</td>\n",
       "      <td>0.023881</td>\n",
       "      <td>0.011558</td>\n",
       "      <td>01:31</td>\n",
       "    </tr>\n",
       "  </tbody>\n",
       "</table>"
      ],
      "text/plain": [
       "<IPython.core.display.HTML object>"
      ]
     },
     "metadata": {},
     "output_type": "display_data"
    },
    {
     "name": "stdout",
     "output_type": "stream",
     "text": [
      "5405\n",
      "this Learner object self-destroyed - it still exists, but no longer usable\n",
      "5433\n"
     ]
    }
   ],
   "source": [
    "lr = 2e-3\n",
    "print(gpu_mem_get_free_no_cache())\n",
    "\n",
    "learn_both = cnn_learner(data_size288_bs8, models.resnet34)\n",
    "\n",
    "learn_both.fit_one_cycle(10, slice(lr))\n",
    "\n",
    "learn_both.save('ap4-both-1')\n",
    "\n",
    "print(gpu_mem_get_free_no_cache())\n",
    "learn_both.purge()\n",
    "learn_both.destroy()\n",
    "print(gpu_mem_get_free_no_cache())\n"
   ]
  },
  {
   "cell_type": "code",
   "execution_count": 19,
   "metadata": {},
   "outputs": [
    {
     "name": "stdout",
     "output_type": "stream",
     "text": [
      "5433\n"
     ]
    },
    {
     "data": {
      "text/html": [
       "Total time: 14:57 <p><table border=\"1\" class=\"dataframe\">\n",
       "  <thead>\n",
       "    <tr style=\"text-align: left;\">\n",
       "      <th>epoch</th>\n",
       "      <th>train_loss</th>\n",
       "      <th>valid_loss</th>\n",
       "      <th>time</th>\n",
       "    </tr>\n",
       "  </thead>\n",
       "  <tbody>\n",
       "    <tr>\n",
       "      <td>0</td>\n",
       "      <td>0.739309</td>\n",
       "      <td>0.157583</td>\n",
       "      <td>01:30</td>\n",
       "    </tr>\n",
       "    <tr>\n",
       "      <td>1</td>\n",
       "      <td>0.154898</td>\n",
       "      <td>0.044982</td>\n",
       "      <td>01:29</td>\n",
       "    </tr>\n",
       "    <tr>\n",
       "      <td>2</td>\n",
       "      <td>0.052335</td>\n",
       "      <td>0.032122</td>\n",
       "      <td>01:30</td>\n",
       "    </tr>\n",
       "    <tr>\n",
       "      <td>3</td>\n",
       "      <td>0.043471</td>\n",
       "      <td>0.027245</td>\n",
       "      <td>01:31</td>\n",
       "    </tr>\n",
       "    <tr>\n",
       "      <td>4</td>\n",
       "      <td>0.032135</td>\n",
       "      <td>0.020041</td>\n",
       "      <td>01:29</td>\n",
       "    </tr>\n",
       "    <tr>\n",
       "      <td>5</td>\n",
       "      <td>0.025474</td>\n",
       "      <td>0.014524</td>\n",
       "      <td>01:29</td>\n",
       "    </tr>\n",
       "    <tr>\n",
       "      <td>6</td>\n",
       "      <td>0.021040</td>\n",
       "      <td>0.011955</td>\n",
       "      <td>01:29</td>\n",
       "    </tr>\n",
       "    <tr>\n",
       "      <td>7</td>\n",
       "      <td>0.017037</td>\n",
       "      <td>0.009798</td>\n",
       "      <td>01:28</td>\n",
       "    </tr>\n",
       "    <tr>\n",
       "      <td>8</td>\n",
       "      <td>0.016564</td>\n",
       "      <td>0.008841</td>\n",
       "      <td>01:29</td>\n",
       "    </tr>\n",
       "    <tr>\n",
       "      <td>9</td>\n",
       "      <td>0.016133</td>\n",
       "      <td>0.009166</td>\n",
       "      <td>01:28</td>\n",
       "    </tr>\n",
       "  </tbody>\n",
       "</table>"
      ],
      "text/plain": [
       "<IPython.core.display.HTML object>"
      ]
     },
     "metadata": {},
     "output_type": "display_data"
    },
    {
     "name": "stdout",
     "output_type": "stream",
     "text": [
      "5339\n",
      "this Learner object self-destroyed - it still exists, but no longer usable\n",
      "5431\n"
     ]
    }
   ],
   "source": [
    "data_big = build_data(size=(288, 432), batch_size=16)\n",
    "lr0, lr1 = 2e-4, 2e-3\n",
    "print(gpu_mem_get_free_no_cache())\n",
    "\n",
    "learn_big = cnn_learner(data_big, models.resnet34)\n",
    "\n",
    "learn_big.fit_one_cycle(10, slice(lr0, lr1))\n",
    "\n",
    "learn_big.save('ap4-big-1')\n",
    "\n",
    "print(gpu_mem_get_free_no_cache())\n",
    "learn_big.purge()\n",
    "learn_big.destroy()\n",
    "print(gpu_mem_get_free_no_cache())"
   ]
  },
  {
   "cell_type": "code",
   "execution_count": null,
   "metadata": {},
   "outputs": [
    {
     "name": "stdout",
     "output_type": "stream",
     "text": [
      "5431\n"
     ]
    },
    {
     "data": {
      "text/html": [
       "\n",
       "    <div>\n",
       "        <style>\n",
       "            /* Turns off some styling */\n",
       "            progress {\n",
       "                /* gets rid of default border in Firefox and Opera. */\n",
       "                border: none;\n",
       "                /* Needs to be in here for Safari polyfill so background images work as expected. */\n",
       "                background-size: auto;\n",
       "            }\n",
       "            .progress-bar-interrupted, .progress-bar-interrupted::-webkit-progress-bar {\n",
       "                background: #F44336;\n",
       "            }\n",
       "        </style>\n",
       "      <progress value='0' class='' max='20', style='width:300px; height:20px; vertical-align: middle;'></progress>\n",
       "      0.00% [0/20 00:00<00:00]\n",
       "    </div>\n",
       "    \n",
       "<table border=\"1\" class=\"dataframe\">\n",
       "  <thead>\n",
       "    <tr style=\"text-align: left;\">\n",
       "      <th>epoch</th>\n",
       "      <th>train_loss</th>\n",
       "      <th>valid_loss</th>\n",
       "      <th>time</th>\n",
       "    </tr>\n",
       "  </thead>\n",
       "  <tbody>\n",
       "  </tbody>\n",
       "</table><p>\n",
       "\n",
       "    <div>\n",
       "        <style>\n",
       "            /* Turns off some styling */\n",
       "            progress {\n",
       "                /* gets rid of default border in Firefox and Opera. */\n",
       "                border: none;\n",
       "                /* Needs to be in here for Safari polyfill so background images work as expected. */\n",
       "                background-size: auto;\n",
       "            }\n",
       "            .progress-bar-interrupted, .progress-bar-interrupted::-webkit-progress-bar {\n",
       "                background: #F44336;\n",
       "            }\n",
       "        </style>\n",
       "      <progress value='80' class='' max='145', style='width:300px; height:20px; vertical-align: middle;'></progress>\n",
       "      55.17% [80/145 00:45<00:36 1.1981]\n",
       "    </div>\n",
       "    "
      ],
      "text/plain": [
       "<IPython.core.display.HTML object>"
      ]
     },
     "metadata": {},
     "output_type": "display_data"
    }
   ],
   "source": [
    "#once more into the breach big2: biggest ever\n",
    "data_big2 = build_data(size=(288, 432), batch_size=32)\n",
    "lr0, lr1 = 2e-4, 2e-3\n",
    "print(gpu_mem_get_free_no_cache())\n",
    "\n",
    "learn_big2 = cnn_learner(data_big2, models.resnet34)\n",
    "\n",
    "learn_big2.fit_one_cycle(20, slice(lr0, lr1))\n",
    "\n",
    "learn_big2.save('ap4-big2-1')\n",
    "\n",
    "print(gpu_mem_get_free_no_cache())\n",
    "learn_big2.purge()\n",
    "learn_big2.destroy()\n",
    "print(gpu_mem_get_free_no_cache())"
   ]
  },
  {
   "cell_type": "markdown",
   "metadata": {},
   "source": [
    "##### Copy paths into/out of `old-models`"
   ]
  },
  {
   "cell_type": "code",
   "execution_count": null,
   "metadata": {
    "collapsed": true
   },
   "outputs": [],
   "source": [
    "# ../../../../alphapilot/Data_Training/Data_Training/models/"
   ]
  },
  {
   "cell_type": "code",
   "execution_count": 11,
   "metadata": {},
   "outputs": [
    {
     "data": {
      "text/plain": [
       "('..\\\\..\\\\..\\\\..\\\\alphapilot\\\\Data_Training\\\\Data_Training\\\\models',\n",
       " 'C:\\\\Users\\\\wsutt\\\\Desktop\\\\files\\\\fastai\\\\course-v3\\\\nbs\\\\custom\\\\old-models')"
      ]
     },
     "execution_count": 11,
     "metadata": {},
     "output_type": "execute_result"
    }
   ],
   "source": [
    "data_dir = Path('data/alphapilot/')\n",
    "raw_fn = data_dir/'data_training'\n",
    "\n",
    "if os.name == 'nt':      \n",
    "    data_dir = Path('../../../../alphapilot/')\n",
    "    raw_fn = data_dir/'Data_Training/Data_Training/'\n",
    "    \n",
    "    \n",
    "indv_models = str(raw_fn/'models')\n",
    "group_models = str(Path(os.getcwd())/'old-models')\n",
    "\n",
    "indv_models, group_models"
   ]
  },
  {
   "cell_type": "code",
   "execution_count": 23,
   "metadata": {
    "collapsed": true
   },
   "outputs": [],
   "source": [
    "#copy into old-models\n",
    "path_sep = '\\\\' if os.name == 'nt' else '/'\n",
    "\n",
    "src = indv_models + path_sep + 'ap4*' \n",
    "dest = group_models + path_sep\n",
    "\n",
    "src, dest\n",
    "!cp $src $dest"
   ]
  },
  {
   "cell_type": "code",
   "execution_count": 33,
   "metadata": {},
   "outputs": [],
   "source": [
    "#copy out of old-models into indv-proj data-dirs\n",
    "path_sep = '\\\\' if os.name == 'nt' else '/'\n",
    "# path_sep= '/'\n",
    "\n",
    "src = group_models + path_sep + 'ap4*' \n",
    "dest = indv_models + path_sep\n",
    "\n",
    "src = 'old-models/ap4*'\n",
    "dest = '../../../../alphapilot/Data_Training/Data_Training/models/'\n",
    "\n",
    "src, dest\n",
    "!cp $src $dest"
   ]
  },
  {
   "cell_type": "code",
   "execution_count": null,
   "metadata": {
    "collapsed": true
   },
   "outputs": [],
   "source": []
  }
 ],
 "metadata": {
  "kernelspec": {
   "display_name": "Python 3",
   "language": "python",
   "name": "python3"
  },
  "language_info": {
   "codemirror_mode": {
    "name": "ipython",
    "version": 3
   },
   "file_extension": ".py",
   "mimetype": "text/x-python",
   "name": "python",
   "nbconvert_exporter": "python",
   "pygments_lexer": "ipython3",
   "version": "3.7.2"
  }
 },
 "nbformat": 4,
 "nbformat_minor": 2
}
